{
 "cells": [
  {
   "cell_type": "markdown",
   "metadata": {},
   "source": [
    "# Preprocess review.json to dictionary\n",
    "## Yelp data\n",
    "\n",
    "* The reviews that are less than 90 days before the last review date of each business are removed\n",
    "* The cleaned reviews data are stored in a dictionary and dumped in review_cleaned_d.p\n",
    "* Structure of the dictionary: {key:business_id, value: {key: Review Date, value: list of review text}}"
   ]
  },
  {
   "cell_type": "markdown",
   "metadata": {},
   "source": [
    "1\\. Read .json file into dictionary{key:business_id, value: {key: Review Date, value: list of review text}}"
   ]
  },
  {
   "cell_type": "code",
   "execution_count": 1,
   "metadata": {
    "collapsed": true
   },
   "outputs": [],
   "source": [
    "import json\n",
    "import pandas as pd\n",
    "import pickle"
   ]
  },
  {
   "cell_type": "code",
   "execution_count": 2,
   "metadata": {
    "collapsed": false
   },
   "outputs": [
    {
     "ename": "FileNotFoundError",
     "evalue": "[Errno 2] No such file or directory: 'Data/yelp_academic_dataset_review.json'",
     "output_type": "error",
     "traceback": [
      "\u001b[0;31m---------------------------------------------------------------------------\u001b[0m",
      "\u001b[0;31mFileNotFoundError\u001b[0m                         Traceback (most recent call last)",
      "\u001b[0;32m<ipython-input-2-2defbb7ddab5>\u001b[0m in \u001b[0;36m<module>\u001b[0;34m()\u001b[0m\n\u001b[1;32m      4\u001b[0m \u001b[0mreviews_dict\u001b[0m \u001b[0;34m=\u001b[0m \u001b[0;34m{\u001b[0m\u001b[0;34m}\u001b[0m\u001b[0;34m\u001b[0m\u001b[0m\n\u001b[1;32m      5\u001b[0m \u001b[0;34m\u001b[0m\u001b[0m\n\u001b[0;32m----> 6\u001b[0;31m \u001b[0;32mwith\u001b[0m \u001b[0mopen\u001b[0m\u001b[0;34m(\u001b[0m\u001b[0;34m\"Data/yelp_academic_dataset_review.json\"\u001b[0m\u001b[0;34m,\u001b[0m \u001b[0;34m\"r\"\u001b[0m\u001b[0;34m)\u001b[0m \u001b[0;32mas\u001b[0m \u001b[0mf\u001b[0m\u001b[0;34m:\u001b[0m\u001b[0;34m\u001b[0m\u001b[0m\n\u001b[0m\u001b[1;32m      7\u001b[0m         \u001b[0;32mfor\u001b[0m \u001b[0mline\u001b[0m \u001b[0;32min\u001b[0m \u001b[0mf\u001b[0m\u001b[0;34m:\u001b[0m\u001b[0;34m\u001b[0m\u001b[0m\n\u001b[1;32m      8\u001b[0m             \u001b[0mline\u001b[0m \u001b[0;34m=\u001b[0m \u001b[0mjson\u001b[0m\u001b[0;34m.\u001b[0m\u001b[0mloads\u001b[0m\u001b[0;34m(\u001b[0m\u001b[0mline\u001b[0m\u001b[0;34m)\u001b[0m\u001b[0;34m\u001b[0m\u001b[0m\n",
      "\u001b[0;31mFileNotFoundError\u001b[0m: [Errno 2] No such file or directory: 'Data/yelp_academic_dataset_review.json'"
     ]
    }
   ],
   "source": [
    "import pickle\n",
    "\n",
    "reviews_dict = {}\n",
    "with open(\"Data/yelp_academic_dataset_review.json\", \"r\") as f:\n",
    "        for line in f:\n",
    "            line = json.loads(line)\n",
    "            if line[\"business_id\"] not in reviews_dict:\n",
    "                reviews_sub_dict = {}\n",
    "                reviews_sub_dict[line[\"date\"]] = [line[\"text\"]]\n",
    "                reviews_dict.update({line[\"business_id\"]:reviews_sub_dict})\n",
    "            else:\n",
    "                if line[\"date\"] not in reviews_dict[line[\"business_id\"]]:\n",
    "                    reviews_dict[line[\"business_id\"]].update({line[\"date\"]:[line[\"text\"]]})\n",
    "                else:\n",
    "                    reviews_dict[line[\"business_id\"]][line[\"date\"]].append(line[\"text\"])\n",
    "            \n",
    "            \n",
    "# #Pickle save\n",
    "# with open(\"data/yelp_academic_dataset_review.json\", \"wb\") as f:\n",
    "#         pickle.dump(store, f)\n",
    "# #Pickle load\n",
    "# with open(\"PATH to .p file\", \"rb\") as f:\n",
    "#         store = pickle.load(f)"
   ]
  },
  {
   "cell_type": "code",
   "execution_count": 3,
   "metadata": {
    "collapsed": false
   },
   "outputs": [
    {
     "data": {
      "text/plain": [
       "{'2010-12-29': [\"After being on the phone with Verizon Wireless trying to figure out why my phone wasn't working for 4.5 hours, I was put in touch with Sharpie Tech. Well, after 10 seconds they fixed the problem. As the owner of a company that does our best numbers over the holiday season, having my phone out of order for 4.5 hours was horrible. Sharpie Tech fixed the problem in record time, even Verizon was shocked. I highly recommend working with this company and I look forward to working with them more. \\n\\n-Rachel Charlupski\\nFounder and CEO, The Babysitting Company\"],\n",
       " '2011-04-29': ['Great service! Corey is very service oriented. Works fast and very effiecient with his time. Going to use him again real soon to do additional IT services. thanks Corey.'],\n",
       " '2011-10-10': [\"If you enjoy service by someone who is as competent as he is personable, I would recommend Corey Kaplan highly. The time he has spent here has been very productive and working with him educational and enjoyable. I hope not to need him again (though this is highly unlikely) but knowing he is there if I do is very nice. By the way, I'm not from El Centro, CA. but Scottsdale, AZ.\"]}"
      ]
     },
     "execution_count": 3,
     "metadata": {},
     "output_type": "execute_result"
    }
   ],
   "source": [
    "reviews_dict[\"2aFiy99vNLklCx3T_tGS9A\"]"
   ]
  },
  {
   "cell_type": "markdown",
   "metadata": {
    "collapsed": true
   },
   "source": [
    "2.Dump the dictionary into .p file. Note: use workaround for issue 24658"
   ]
  },
  {
   "cell_type": "code",
   "execution_count": 3,
   "metadata": {
    "collapsed": true
   },
   "outputs": [],
   "source": [
    "file_path = \"data/yelp_review.p\"\n",
    "\n",
    "class MacOSFile(object):\n",
    "\n",
    "    def __init__(self, f):\n",
    "        self.f = f\n",
    "\n",
    "    def __getattr__(self, item):\n",
    "        return getattr(self.f, item)\n",
    "\n",
    "    def read(self, n):\n",
    "        # print(\"reading total_bytes=%s\" % n, flush=True)\n",
    "        if n >= (1 << 31):\n",
    "            buffer = bytearray(n)\n",
    "            idx = 0\n",
    "            while idx < n:\n",
    "                batch_size = min(n - idx, 1 << 31 - 1)\n",
    "                # print(\"reading bytes [%s,%s)...\" % (idx, idx + batch_size), end=\"\", flush=True)\n",
    "                buffer[idx:idx + batch_size] = self.f.read(batch_size)\n",
    "                # print(\"done.\", flush=True)\n",
    "                idx += batch_size\n",
    "            return buffer\n",
    "        return self.f.read(n)\n",
    "\n",
    "    def write(self, buffer):\n",
    "        n = len(buffer)\n",
    "        print(\"writing total_bytes=%s...\" % n, flush=True)\n",
    "        idx = 0\n",
    "        while idx < n:\n",
    "            batch_size = min(n - idx, 1 << 31 - 1)\n",
    "            print(\"writing bytes [%s, %s)... \" % (idx, idx + batch_size), end=\"\", flush=True)\n",
    "            self.f.write(buffer[idx:idx + batch_size])\n",
    "            print(\"done.\", flush=True)\n",
    "            idx += batch_size\n",
    "\n",
    "def pickle_dump(obj, file_path):\n",
    "    with open(file_path, \"wb\") as f:\n",
    "        return pickle.dump(obj, MacOSFile(f), protocol=pickle.HIGHEST_PROTOCOL)\n",
    "    \n",
    "def pickle_load(file_path):\n",
    "    with open(file_path, \"rb\") as f:\n",
    "        return pickle.load(MacOSFile(f))"
   ]
  },
  {
   "cell_type": "code",
   "execution_count": 3,
   "metadata": {
    "collapsed": false
   },
   "outputs": [
    {
     "ename": "NameError",
     "evalue": "name 'reviews_dict' is not defined",
     "output_type": "error",
     "traceback": [
      "\u001b[0;31m---------------------------------------------------------------------------\u001b[0m",
      "\u001b[0;31mNameError\u001b[0m                                 Traceback (most recent call last)",
      "\u001b[0;32m<ipython-input-3-4b96cd023bec>\u001b[0m in \u001b[0;36m<module>\u001b[0;34m()\u001b[0m\n\u001b[1;32m      1\u001b[0m \u001b[0;31m# Dump the dictionary into .p file\u001b[0m\u001b[0;34m\u001b[0m\u001b[0;34m\u001b[0m\u001b[0m\n\u001b[0;32m----> 2\u001b[0;31m \u001b[0mpickle_dump\u001b[0m\u001b[0;34m(\u001b[0m\u001b[0mreviews_dict\u001b[0m\u001b[0;34m,\u001b[0m \u001b[0mfile_path\u001b[0m\u001b[0;34m)\u001b[0m\u001b[0;34m\u001b[0m\u001b[0m\n\u001b[0m\u001b[1;32m      3\u001b[0m \u001b[0;31m# with open(\"Data/yelp_review_v2.p\", \"rb\") as fin:\u001b[0m\u001b[0;34m\u001b[0m\u001b[0;34m\u001b[0m\u001b[0m\n\u001b[1;32m      4\u001b[0m \u001b[0;31m#     pickle.dump(reviews_dict, f)\u001b[0m\u001b[0;34m\u001b[0m\u001b[0;34m\u001b[0m\u001b[0m\n",
      "\u001b[0;31mNameError\u001b[0m: name 'reviews_dict' is not defined"
     ]
    }
   ],
   "source": [
    "# Dump the dictionary into .p file\n",
    "pickle_dump(reviews_dict, file_path)"
   ]
  },
  {
   "cell_type": "markdown",
   "metadata": {},
   "source": [
    "3.Output dictionary from reivews.p file"
   ]
  },
  {
   "cell_type": "code",
   "execution_count": 49,
   "metadata": {
    "collapsed": false
   },
   "outputs": [],
   "source": [
    "import pickle\n",
    "review_d = pickle_load(file_path)"
   ]
  },
  {
   "cell_type": "code",
   "execution_count": 54,
   "metadata": {
    "collapsed": false
   },
   "outputs": [
    {
     "data": {
      "text/plain": [
       "{'2012-06-04': [\"A super pleasant place for a delicious breakfast.\\n\\nThe Hubster and I came here Sunday at 1pm (peak time for the partier set) and were pleased to find no line up, no pretension and a tasty tasty breakfast at decent prices.\\n\\nI'm not kidding when I say this place is pleasant. It's cozy, clean and yes.. sunny. The service is very friendly and their orange juice is fresh-squeezed. It's also quiet, which is great for those who may have overdone it the night before. A standard breakfast (2 eggs, bacon/sausage/ham, toast, homefries) is about $9. Their home fries are crispy on the outside, soft and nicely spiced. \\n\\nDespite Boom being down the street, this is going to be our go-to breakfast spot in the neighbourhood. It's just as good without the high prices and the lineup.\"],\n",
       " '2012-06-14': [\"This is an attractive, clean restaurant that serves a good, greasy spoon style breakfast for cheap. The waiter was very attentive and efficient, and the coffee was above average. If you're in the 'hood, go!\"],\n",
       " '2012-11-11': [\"Excellent and friendly service!  Nice clean restaurant, including the washrooms.\\nTasty, freshly squeezed orange juice and a delicious breakfast menu.  Home fried potatoes were VERY tasty and eggs were perfectly done!\\nWhenever I have sausages with breakfast, I want them to taste EXACTLY like the sausages at Sunnyside Grill.\\nThere are other breakfast and brunch options within walking distance on St. Clair, but this is the one we'll be going back to again and again.\"],\n",
       " '2013-04-07': ['Good place to go to get a great, cheap breakfast and avoid the line-ups at other breakfast places in the area. Friendly service, good food and great prices.'],\n",
       " '2013-07-06': ['Decent breakfasty food. Decent eggs, toast and bacon.'],\n",
       " '2013-08-12': ['I dine here 1 or 2 times a week.  I enjoy getting there for the early bird breakfast on weekdays.  Traditional breakfast.  Service is friendly and knowledgable.  I have requested items not on the menu and they are accommodating (within reason).  The coffee is hot and plentiful.  As a vote of confidence I generally see 2 to 10 police enjoying breakfast.'],\n",
       " '2013-08-16': ['Awesome place. Love the liberal use of corned beef in a number of dishes. Just a great diner.'],\n",
       " '2013-09-07': [\"Just tried this breakfast joint, didn't want the same old from Boom. On the way to Tricolore but got sidetracked.\\nWill come to Sunnyside again with the family for sure. Coffee good. Light breakfast was just right. My companion had the meat plate (aka the Super Sunnyside).\\n\\nThey even have a counter with stools, flashing back to our family's favourite the dear departed Tivoli. WiFi and all you can eat pancakes/French toast on certain days? Fantastic!\"],\n",
       " '2013-09-14': ['Had breakfast here for the first time today. Nice little restaurant. Prices are reasonable, food was fantastic! Everything we ordered was perfect (even the bacon that I requested to be well done). Very friendly staff. We will definitely go back here again!'],\n",
       " '2013-10-06': [\"I used to come to this restaurant about two years ago. I loved them! Fresh food, friendly service, excellent coffee.\\n\\nI went there today and was not impressed. We waited about five minutes for a table, which we were fine with. They cleaned it quickly and we sat down. However, I noticed ants crawling on the corner of my table. They were babies, so this isn't a serious problem in the restaurant, yet. I couldn't get the attention of the waiter to get the table cleaned, so I killed then with a sugar packet and let it be. \\n\\nWe ordered coffee, which came quickly. Our cups were dirty, with clear stains on the sides. We waited about ten minutes for refills, which I find is normal. \\n\\nWe placed our order. The food came quickly, and was okay. I came with my sister and my friend. \\n\\nMy friend chose to create his own meal, which came on separate plates. \\n\\nMy sisters eggs were over cooked. \\n\\nMy food was okay. It was not very presentable, but was delicious. \\n\\nAll in all, it was an okay experience, but I've had better at other restaurants. If I had the choice, I would go to any of the over breakfast places on St. Clair.\"],\n",
       " '2013-12-05': ['Its fine the breakfast was fine it wasnt anything I remembered that made me give this place a rating of fine there prices were.......fine'],\n",
       " '2014-01-22': [\"There's an early bird special if you go before 930 (if I remember correctly) which gives you a handsome discount on the traditional breakfast (2 eggs, toast,  potatoes, choice of bacon or sausage etc) The server was friendly and attentive and was always available to top up my coffee.  If you want to reduce your carb intake they will replace your potatoes with tomatoes which go well with the meal.\"],\n",
       " '2014-03-01': [\"Completely mediocre. I was there on a Saturday at 12:30, it was fairly busy but we got a table right away. My major complaint with this place is the food is bland, under seasoned and just blah. I had the eggs Benny, English muffin was barely toasted so it became soggy. I requested soft poached, one was perfect and one was quite under, with a lot of the whites barely cooked. Hollandaise was ok, nothing exciting but not terrible. The potatoes were again just ok, but needed salt desperately. It looked like they had been cooked awhile ago, at some point they were crispy, but by the time the had got to me, they were steamed and soft. My son had scrambled eggs and sausage, the eggs were rubbery and the sausage had the same issue as the potatoes, crispy in another life, but soggy in this one. \\n\\nIf you're in the neighbourhood and you want a proper breakfast, just go to Emma's!\"],\n",
       " '2014-04-11': ['Everything you look for in a great breakfast joint. Food is great, prices are too, and the staff are usually wonderful.'],\n",
       " '2014-06-05': [\"This is one of the best places you can have breakfast in the area. The portions are reasonable big and the price is good too. I've been there twice and the service is very good. Those two times that I went it was a Sunday morning and I had to wait about 30 minutes to be seated, so don't go over there if you are starving!!!\"],\n",
       " '2014-07-30': [\"This place lives somewhere in between diner dive and fancy brunch spot, which for me is not the sweet spot. I much prefer it cheap and cheerful or gastro-fabulous, but these breakfast spots definitely have their place in society, and we were hungry. \\n\\nThree of us went for breakfast, and got the traditional breakfast combos: two meats, two eggs, toast and potato things, waffles and coffee and one fresh OJ and it came to a little over $40. Too steep for what it was, but still pretty tasty. \\n\\nLovely waitstaff, exposed brick and some breakfast. This place is probably a lot of peoples' jam... and peanut butter. They have peanut butter in individual packets on the tables. Cool.\"],\n",
       " '2014-11-01': ['3.5 stars.  Fast basic breakfast. Good value. Very kid-friendly and cozy.  $4.99 early bird special from 7-10am.  Staff very attentive and friendly.  \\n\\nHad the \"Light & Lively\" bfast from the \"healthy\" menu. 1 egg, toasted bagel or english muffin & cup of yogurt with fruit.  The egg (easy over) was PERFECT and english muffin was toasted perfectly as well (crisp all around yet soft and chewy in the middle). Yogurt & fruit was surprisingly disappointing. Tasted like artificially sweetened fruity yogurt with too-sweet fruit in syrup ladled into it.  Did not eat.\\n\\nHubby had the french toast. Light and tasty but served with fake syrup (not real maple syrup).\\n\\nDespite the yogurt and fake syrup would definitely go back again for a quick cheap early morning bfast.'],\n",
       " '2014-11-10': [\"My family was in town this weekend and wanted to go out for breakfast around 9 on Sunday morning. This is earlier than I would normally be up, but since my parents are early risers, I wasn't going to argue. After my Mom looked at the menus of a couple of places that had generally positive reviews (she's allergic to milk, so we like to make sure she has plenty of choices before going somewhere, more on that later), we settled on Sunnyside.\\n\\nOur group of six was seated immediately upon entry, presumably due to the fact that it was still so early. It definitely got busier as time went on, although by the time we left (around 10:30), there were still some empty tables. The service was fast and friendly, and our coffee cups never sat empty for long. The food itself was delicious, and the portions were substantial - great value for the price! I ordered an omelette and I felt satisfied upon finishing it, a good sign considering my voracious appetite.\\n\\nWhen my Mom notified our server about her allergy, she was told that they usually cook with some type of oil/grease that contains dairy (I can't remember the name of it), but the server indicated they'd have no trouble accommodating her restriction. When our food arrived, my Mom noticed that her meal wasn't as hot as she would've liked, presumably due to the fact that the cooks prepared her plate in advance of the rest of us. I also noticed that other people, who were seated and ordered after us, received their food before we did. I'm not sure if this is considered a faux pas, but when I worked in a restaurant, we made absolutely sure to avoid doing this. If it weren't for these two minor complaints (and moreso the first one), I might have given the place 5 stars, and if I could, I'd probably rate it 4.5 rather than 4.\\n\\nI could definitely see myself returning, and won't hesitate to recommend this spot to anyone else!\"],\n",
       " '2015-01-03': ['Great and friendly service by all. Nice, clean and relaxed environment. Lots of yummy food with each serving. Will come back for sure!'],\n",
       " '2015-05-21': [\"Omg The best breakfast place I ever been to.\\nI got something called the super. 3Eggs 3saugase 4 bacon stripes a big slice of cooked ham French fries never been fully in a breakfast place ever. Their O.j. and chocolate milk tasted great. So much cereals that I haven't even seen in stores to choice from.\\n\\nOverall great place to come sit and hang out.\"],\n",
       " '2015-06-12': ['Visited for brunch at about 11 a.m. on June 12th. I ordered the eggs Florentine. I got an over buttered rendition of a Hollandaise sauce and raw spinach with a side of burnt \"home fries\". Eggs Florentine is traditionally made with blanched spinach. After complaining, the waitress said, \"that\\'s how we make ours\". She offered to take it back but if I\\'ve learned anything from the media, it\\'s don\\'t send back your food! She then concluded with, let us know next time and we\\'ll grill the spinach. Uhhh... there won\\'t be a next time!'],\n",
       " '2015-06-26': [\"Ordered a chicken club sandwich with an egg and side order of fries. Nothing spectacular but no complaints either. Service was decent and pleasant. \\n\\nI'd go there again but probably for breakfast this time around.\"],\n",
       " '2015-07-08': [\"I came here with some friends after a fun night of dancing, in desperate need of some greasy nourishment to fill my grumbling belly. To be honest, I wasn't expecting much more than just your run-of-the-mill greasy spoon, but I was wonderfully surprised. The place was fairly busy and there was a bit of a wait, however the host was well organized and attentive, keeping us continually updated. Once we did sit down, our server was friendly and efficient. I went with the delicious sounding tomato and feta omelette. The tomatoes were marinaded in a little bit of vinegar and some herbs, almost like bruschetta. It was delicious with the marinaded tomatoes balancing out the salty feta. Definitely keeping this idea in my back pocket! Overall, I was thoroughly impressed with my serve and food, and look forward to my next visit.\"],\n",
       " '2015-07-22': ['Great food.  Great price.  Was suspicious of reviews.  Typical greasy spoon.  Low in innovation.  High on taste.  Had the breakfast grilled cheese.  Added mayo for moisture and swapped for scrambled.   No problem with modifying.  Great non-formal service.'],\n",
       " '2015-10-03': [\"Definitely not going back to this place. Over priced, poor service, and terrible food. \\n\\nThis place was nothing like what some of these reviews say. We got a table right away but we had to ask that it be cleaned and set. Three tables around us had not been cleared the whole time we were there and were left with garbage and food.   \\n\\nWe ordered coffee and water and our food arrived before our drinks. Had to remind the server we ordered drinks. It wasn't overly busy and the service was so slow. Not once did the server come back and ask if everything was ok or even refill our coffee and water. \\n\\nAs for the food. We both ordered the all day breakfast and it was horrible. The potatoes were not cooked and soaked in grease. The eggs were ok but so oily and greasy.\"],\n",
       " '2016-03-19': [\"We really enjoy this breakfast restaurant in the west end of the city.  Came here a few times and brought other immediate families here who all enjoyed their breakfast thoroughly. \\n\\nThe service is very warm and friendly which you really appreciate first thing in the morning.  We usually sit right by the entrance adjacent to the large patio door windows.  There is a very good selection for everybody, traditional breakfast, omelettes, salads, sandwiches, pancakes, cereal.  The best is their sausages, I went through a period of sausage craving during my pregnancy and this was the only breakfast joint where the sausage flavour hit the spot and brought back lots of childhood memories.  The bacon is always cooked to perfection (as per my hubby) and the portions are generous.  \\n\\nOur only thing is that the place gets quite smoky from the cooking and sometimes they got to open their patio doors a little to let some of the smoke out.  It's happened during the middle of winter but lucky it was a mild winter so despite the cold it wasn't too bad.  The waitress was very attentive and asked a few times if we were alright sitting right next to the cold and we appreciated her attentiveness in looking after us.\"],\n",
       " '2016-06-03': [\"Good breakfast, good service, not too busy any time I've been there, very decent and no complaints.\"],\n",
       " '2016-08-04': [\"Sunnyside grill is sort of american diner sort of a place and a great place to go for brunch or for a quick bite. nothing fancy about it but it is good food at good prices.\\nThey have sort of egg with cheese and bacon in a english muffin thing + side of hush browns for $5.99. I had one of these and I loved it.\\nMy son had kids meal pancakes and they were great too.\\nso yes, check it out for easy, reasonably priced brunch or diner sort of food. it's fair to say you gonna get good bang for your buck.\"],\n",
       " '2016-10-02': [\"Two of us went for a late brunch and were not disappointed. Service was prompt; waitress was courteous. She brought rye toast instead of wholewheat but I kept it anyway; she offered to replace it. \\n\\nA cook/chef came from the back to apologize to the guests at the table next to us who were waiting about 15mins; the staff had somehow lost the slip with their original order. I thought that was very good; usually the wait staff are the ones to do that kinda dirty work. \\n\\nI'll certainly go back another day.\"],\n",
       " '2016-10-23': [\"I stopped here for breakfast before starting my journey back to Chicago. I got seated fairly quickly at a table for one. It was crowded, so of course I knew service wouldn't be the quickest, but I have to say, I had the most inattentive waitress ever. A guy that was seated a couple minutes before me had his food, ate and left before my waitress even remembered she took my order. The waitress was very apologetic, but still didn't even bother to refill my water or coffee. \\nAll I had was an omelette; nothing complicated. So I'm pretty sure she just forgot to put in the order. The food was hot and delicious. The bus boy and seating host were kind enough to refill my coffee and water. The food, the bus boy and the seating host get 5 stars. My server...1...and only because she got my order right. I had to flag her down to pay, as she was having a friendly conversation with what seemed like regulars. She just put the amount into the credit card machine thing and left it at the table. Didn't even bring me a pen to sign my receipt. I didn't feel like flagging her down again. :-/ Worst. Server. Ever. I hope the bus boy took the tip I left...\"],\n",
       " '2017-01-05': ['We came in for breakfast. Three of us got omelettes and Jessy got a benedict. They were all good, standard diner fare, generous portions. We also got excellent service, but that might be because the place was so empty. :)'],\n",
       " '2017-01-08': ['Beautiful place filled with nice staff and delicious  food. We enjoyed our breakfast meal.']}"
      ]
     },
     "execution_count": 54,
     "metadata": {},
     "output_type": "execute_result"
    }
   ],
   "source": [
    "review_d[\"--DaPTJW3-tB1vP-PfdTEg\"]"
   ]
  },
  {
   "cell_type": "markdown",
   "metadata": {},
   "source": [
    "3.Remove the reviews which is less than 90 days before the last review date  "
   ]
  },
  {
   "cell_type": "code",
   "execution_count": 70,
   "metadata": {
    "collapsed": false
   },
   "outputs": [],
   "source": [
    "import time\n",
    "import datetime\n",
    "\n",
    "ThreeMonths = 7776000 # 90 days in second\n",
    "\n",
    "def get_time(date_str):\n",
    "    return time.mktime(datetime.datetime.strptime(date_str, \"%Y-%m-%d\").timetuple())\n",
    "\n",
    "#input dictionary and a string of bus_id, output a date string of the last review \n",
    "def last_review_date(review_dict, bus_id):\n",
    "    MIN_TIME = \"2000-01-01\"\n",
    "    last_date = MIN_TIME\n",
    "    if bus_id not in review_dict:\n",
    "        return \"error: not found\"\n",
    "    for key, value in review_dict[bus_id].items():\n",
    "        if get_time(last_date) < get_time(key):\n",
    "            last_date = key\n",
    "    return last_date\n"
   ]
  },
  {
   "cell_type": "markdown",
   "metadata": {},
   "source": [
    "Record the date of last review for business id \"--DaPTJW3-tB1vP-PfdTEg\" for later examination"
   ]
  },
  {
   "cell_type": "code",
   "execution_count": 64,
   "metadata": {
    "collapsed": false
   },
   "outputs": [
    {
     "name": "stdout",
     "output_type": "stream",
     "text": [
      "2017-01-08\n"
     ]
    }
   ],
   "source": [
    "print(last_review_date(review_d, \"--DaPTJW3-tB1vP-PfdTEg\"))"
   ]
  },
  {
   "cell_type": "code",
   "execution_count": 68,
   "metadata": {
    "collapsed": false
   },
   "outputs": [],
   "source": [
    "import copy\n",
    "review_cleaned_d = copy.deepcopy(review_d)"
   ]
  },
  {
   "cell_type": "code",
   "execution_count": 72,
   "metadata": {
    "collapsed": false
   },
   "outputs": [],
   "source": [
    "for key, value in review_cleaned_d.items():\n",
    "    last_date = last_review_date(review_cleaned_d, key)\n",
    "    invalid = []\n",
    "    for k, v in value.items():\n",
    "        if get_time(k) > get_time(last_date) - ThreeMonths:\n",
    "            invalid.append(k)\n",
    "    for i in invalid:\n",
    "        del review_cleaned_d[key][i]"
   ]
  },
  {
   "cell_type": "markdown",
   "metadata": {},
   "source": [
    "Check the reviews in 2017 have been removed."
   ]
  },
  {
   "cell_type": "code",
   "execution_count": 73,
   "metadata": {
    "collapsed": false
   },
   "outputs": [
    {
     "data": {
      "text/plain": [
       "{'2012-06-04': [\"A super pleasant place for a delicious breakfast.\\n\\nThe Hubster and I came here Sunday at 1pm (peak time for the partier set) and were pleased to find no line up, no pretension and a tasty tasty breakfast at decent prices.\\n\\nI'm not kidding when I say this place is pleasant. It's cozy, clean and yes.. sunny. The service is very friendly and their orange juice is fresh-squeezed. It's also quiet, which is great for those who may have overdone it the night before. A standard breakfast (2 eggs, bacon/sausage/ham, toast, homefries) is about $9. Their home fries are crispy on the outside, soft and nicely spiced. \\n\\nDespite Boom being down the street, this is going to be our go-to breakfast spot in the neighbourhood. It's just as good without the high prices and the lineup.\"],\n",
       " '2012-06-14': [\"This is an attractive, clean restaurant that serves a good, greasy spoon style breakfast for cheap. The waiter was very attentive and efficient, and the coffee was above average. If you're in the 'hood, go!\"],\n",
       " '2012-11-11': [\"Excellent and friendly service!  Nice clean restaurant, including the washrooms.\\nTasty, freshly squeezed orange juice and a delicious breakfast menu.  Home fried potatoes were VERY tasty and eggs were perfectly done!\\nWhenever I have sausages with breakfast, I want them to taste EXACTLY like the sausages at Sunnyside Grill.\\nThere are other breakfast and brunch options within walking distance on St. Clair, but this is the one we'll be going back to again and again.\"],\n",
       " '2013-04-07': ['Good place to go to get a great, cheap breakfast and avoid the line-ups at other breakfast places in the area. Friendly service, good food and great prices.'],\n",
       " '2013-07-06': ['Decent breakfasty food. Decent eggs, toast and bacon.'],\n",
       " '2013-08-12': ['I dine here 1 or 2 times a week.  I enjoy getting there for the early bird breakfast on weekdays.  Traditional breakfast.  Service is friendly and knowledgable.  I have requested items not on the menu and they are accommodating (within reason).  The coffee is hot and plentiful.  As a vote of confidence I generally see 2 to 10 police enjoying breakfast.'],\n",
       " '2013-08-16': ['Awesome place. Love the liberal use of corned beef in a number of dishes. Just a great diner.'],\n",
       " '2013-09-07': [\"Just tried this breakfast joint, didn't want the same old from Boom. On the way to Tricolore but got sidetracked.\\nWill come to Sunnyside again with the family for sure. Coffee good. Light breakfast was just right. My companion had the meat plate (aka the Super Sunnyside).\\n\\nThey even have a counter with stools, flashing back to our family's favourite the dear departed Tivoli. WiFi and all you can eat pancakes/French toast on certain days? Fantastic!\"],\n",
       " '2013-09-14': ['Had breakfast here for the first time today. Nice little restaurant. Prices are reasonable, food was fantastic! Everything we ordered was perfect (even the bacon that I requested to be well done). Very friendly staff. We will definitely go back here again!'],\n",
       " '2013-10-06': [\"I used to come to this restaurant about two years ago. I loved them! Fresh food, friendly service, excellent coffee.\\n\\nI went there today and was not impressed. We waited about five minutes for a table, which we were fine with. They cleaned it quickly and we sat down. However, I noticed ants crawling on the corner of my table. They were babies, so this isn't a serious problem in the restaurant, yet. I couldn't get the attention of the waiter to get the table cleaned, so I killed then with a sugar packet and let it be. \\n\\nWe ordered coffee, which came quickly. Our cups were dirty, with clear stains on the sides. We waited about ten minutes for refills, which I find is normal. \\n\\nWe placed our order. The food came quickly, and was okay. I came with my sister and my friend. \\n\\nMy friend chose to create his own meal, which came on separate plates. \\n\\nMy sisters eggs were over cooked. \\n\\nMy food was okay. It was not very presentable, but was delicious. \\n\\nAll in all, it was an okay experience, but I've had better at other restaurants. If I had the choice, I would go to any of the over breakfast places on St. Clair.\"],\n",
       " '2013-12-05': ['Its fine the breakfast was fine it wasnt anything I remembered that made me give this place a rating of fine there prices were.......fine'],\n",
       " '2014-01-22': [\"There's an early bird special if you go before 930 (if I remember correctly) which gives you a handsome discount on the traditional breakfast (2 eggs, toast,  potatoes, choice of bacon or sausage etc) The server was friendly and attentive and was always available to top up my coffee.  If you want to reduce your carb intake they will replace your potatoes with tomatoes which go well with the meal.\"],\n",
       " '2014-03-01': [\"Completely mediocre. I was there on a Saturday at 12:30, it was fairly busy but we got a table right away. My major complaint with this place is the food is bland, under seasoned and just blah. I had the eggs Benny, English muffin was barely toasted so it became soggy. I requested soft poached, one was perfect and one was quite under, with a lot of the whites barely cooked. Hollandaise was ok, nothing exciting but not terrible. The potatoes were again just ok, but needed salt desperately. It looked like they had been cooked awhile ago, at some point they were crispy, but by the time the had got to me, they were steamed and soft. My son had scrambled eggs and sausage, the eggs were rubbery and the sausage had the same issue as the potatoes, crispy in another life, but soggy in this one. \\n\\nIf you're in the neighbourhood and you want a proper breakfast, just go to Emma's!\"],\n",
       " '2014-04-11': ['Everything you look for in a great breakfast joint. Food is great, prices are too, and the staff are usually wonderful.'],\n",
       " '2014-06-05': [\"This is one of the best places you can have breakfast in the area. The portions are reasonable big and the price is good too. I've been there twice and the service is very good. Those two times that I went it was a Sunday morning and I had to wait about 30 minutes to be seated, so don't go over there if you are starving!!!\"],\n",
       " '2014-07-30': [\"This place lives somewhere in between diner dive and fancy brunch spot, which for me is not the sweet spot. I much prefer it cheap and cheerful or gastro-fabulous, but these breakfast spots definitely have their place in society, and we were hungry. \\n\\nThree of us went for breakfast, and got the traditional breakfast combos: two meats, two eggs, toast and potato things, waffles and coffee and one fresh OJ and it came to a little over $40. Too steep for what it was, but still pretty tasty. \\n\\nLovely waitstaff, exposed brick and some breakfast. This place is probably a lot of peoples' jam... and peanut butter. They have peanut butter in individual packets on the tables. Cool.\"],\n",
       " '2014-11-01': ['3.5 stars.  Fast basic breakfast. Good value. Very kid-friendly and cozy.  $4.99 early bird special from 7-10am.  Staff very attentive and friendly.  \\n\\nHad the \"Light & Lively\" bfast from the \"healthy\" menu. 1 egg, toasted bagel or english muffin & cup of yogurt with fruit.  The egg (easy over) was PERFECT and english muffin was toasted perfectly as well (crisp all around yet soft and chewy in the middle). Yogurt & fruit was surprisingly disappointing. Tasted like artificially sweetened fruity yogurt with too-sweet fruit in syrup ladled into it.  Did not eat.\\n\\nHubby had the french toast. Light and tasty but served with fake syrup (not real maple syrup).\\n\\nDespite the yogurt and fake syrup would definitely go back again for a quick cheap early morning bfast.'],\n",
       " '2014-11-10': [\"My family was in town this weekend and wanted to go out for breakfast around 9 on Sunday morning. This is earlier than I would normally be up, but since my parents are early risers, I wasn't going to argue. After my Mom looked at the menus of a couple of places that had generally positive reviews (she's allergic to milk, so we like to make sure she has plenty of choices before going somewhere, more on that later), we settled on Sunnyside.\\n\\nOur group of six was seated immediately upon entry, presumably due to the fact that it was still so early. It definitely got busier as time went on, although by the time we left (around 10:30), there were still some empty tables. The service was fast and friendly, and our coffee cups never sat empty for long. The food itself was delicious, and the portions were substantial - great value for the price! I ordered an omelette and I felt satisfied upon finishing it, a good sign considering my voracious appetite.\\n\\nWhen my Mom notified our server about her allergy, she was told that they usually cook with some type of oil/grease that contains dairy (I can't remember the name of it), but the server indicated they'd have no trouble accommodating her restriction. When our food arrived, my Mom noticed that her meal wasn't as hot as she would've liked, presumably due to the fact that the cooks prepared her plate in advance of the rest of us. I also noticed that other people, who were seated and ordered after us, received their food before we did. I'm not sure if this is considered a faux pas, but when I worked in a restaurant, we made absolutely sure to avoid doing this. If it weren't for these two minor complaints (and moreso the first one), I might have given the place 5 stars, and if I could, I'd probably rate it 4.5 rather than 4.\\n\\nI could definitely see myself returning, and won't hesitate to recommend this spot to anyone else!\"],\n",
       " '2015-01-03': ['Great and friendly service by all. Nice, clean and relaxed environment. Lots of yummy food with each serving. Will come back for sure!'],\n",
       " '2015-05-21': [\"Omg The best breakfast place I ever been to.\\nI got something called the super. 3Eggs 3saugase 4 bacon stripes a big slice of cooked ham French fries never been fully in a breakfast place ever. Their O.j. and chocolate milk tasted great. So much cereals that I haven't even seen in stores to choice from.\\n\\nOverall great place to come sit and hang out.\"],\n",
       " '2015-06-12': ['Visited for brunch at about 11 a.m. on June 12th. I ordered the eggs Florentine. I got an over buttered rendition of a Hollandaise sauce and raw spinach with a side of burnt \"home fries\". Eggs Florentine is traditionally made with blanched spinach. After complaining, the waitress said, \"that\\'s how we make ours\". She offered to take it back but if I\\'ve learned anything from the media, it\\'s don\\'t send back your food! She then concluded with, let us know next time and we\\'ll grill the spinach. Uhhh... there won\\'t be a next time!'],\n",
       " '2015-06-26': [\"Ordered a chicken club sandwich with an egg and side order of fries. Nothing spectacular but no complaints either. Service was decent and pleasant. \\n\\nI'd go there again but probably for breakfast this time around.\"],\n",
       " '2015-07-08': [\"I came here with some friends after a fun night of dancing, in desperate need of some greasy nourishment to fill my grumbling belly. To be honest, I wasn't expecting much more than just your run-of-the-mill greasy spoon, but I was wonderfully surprised. The place was fairly busy and there was a bit of a wait, however the host was well organized and attentive, keeping us continually updated. Once we did sit down, our server was friendly and efficient. I went with the delicious sounding tomato and feta omelette. The tomatoes were marinaded in a little bit of vinegar and some herbs, almost like bruschetta. It was delicious with the marinaded tomatoes balancing out the salty feta. Definitely keeping this idea in my back pocket! Overall, I was thoroughly impressed with my serve and food, and look forward to my next visit.\"],\n",
       " '2015-07-22': ['Great food.  Great price.  Was suspicious of reviews.  Typical greasy spoon.  Low in innovation.  High on taste.  Had the breakfast grilled cheese.  Added mayo for moisture and swapped for scrambled.   No problem with modifying.  Great non-formal service.'],\n",
       " '2015-10-03': [\"Definitely not going back to this place. Over priced, poor service, and terrible food. \\n\\nThis place was nothing like what some of these reviews say. We got a table right away but we had to ask that it be cleaned and set. Three tables around us had not been cleared the whole time we were there and were left with garbage and food.   \\n\\nWe ordered coffee and water and our food arrived before our drinks. Had to remind the server we ordered drinks. It wasn't overly busy and the service was so slow. Not once did the server come back and ask if everything was ok or even refill our coffee and water. \\n\\nAs for the food. We both ordered the all day breakfast and it was horrible. The potatoes were not cooked and soaked in grease. The eggs were ok but so oily and greasy.\"],\n",
       " '2016-03-19': [\"We really enjoy this breakfast restaurant in the west end of the city.  Came here a few times and brought other immediate families here who all enjoyed their breakfast thoroughly. \\n\\nThe service is very warm and friendly which you really appreciate first thing in the morning.  We usually sit right by the entrance adjacent to the large patio door windows.  There is a very good selection for everybody, traditional breakfast, omelettes, salads, sandwiches, pancakes, cereal.  The best is their sausages, I went through a period of sausage craving during my pregnancy and this was the only breakfast joint where the sausage flavour hit the spot and brought back lots of childhood memories.  The bacon is always cooked to perfection (as per my hubby) and the portions are generous.  \\n\\nOur only thing is that the place gets quite smoky from the cooking and sometimes they got to open their patio doors a little to let some of the smoke out.  It's happened during the middle of winter but lucky it was a mild winter so despite the cold it wasn't too bad.  The waitress was very attentive and asked a few times if we were alright sitting right next to the cold and we appreciated her attentiveness in looking after us.\"],\n",
       " '2016-06-03': [\"Good breakfast, good service, not too busy any time I've been there, very decent and no complaints.\"],\n",
       " '2016-08-04': [\"Sunnyside grill is sort of american diner sort of a place and a great place to go for brunch or for a quick bite. nothing fancy about it but it is good food at good prices.\\nThey have sort of egg with cheese and bacon in a english muffin thing + side of hush browns for $5.99. I had one of these and I loved it.\\nMy son had kids meal pancakes and they were great too.\\nso yes, check it out for easy, reasonably priced brunch or diner sort of food. it's fair to say you gonna get good bang for your buck.\"],\n",
       " '2016-10-02': [\"Two of us went for a late brunch and were not disappointed. Service was prompt; waitress was courteous. She brought rye toast instead of wholewheat but I kept it anyway; she offered to replace it. \\n\\nA cook/chef came from the back to apologize to the guests at the table next to us who were waiting about 15mins; the staff had somehow lost the slip with their original order. I thought that was very good; usually the wait staff are the ones to do that kinda dirty work. \\n\\nI'll certainly go back another day.\"]}"
      ]
     },
     "execution_count": 73,
     "metadata": {},
     "output_type": "execute_result"
    }
   ],
   "source": [
    "review_cleaned_d[\"--DaPTJW3-tB1vP-PfdTEg\"]"
   ]
  },
  {
   "cell_type": "code",
   "execution_count": 75,
   "metadata": {
    "collapsed": false
   },
   "outputs": [
    {
     "name": "stdout",
     "output_type": "stream",
     "text": [
      "writing total_bytes=2461331425...\n",
      "writing bytes [0, 1073741824)... done.\n",
      "writing bytes [1073741824, 2147483648)... done.\n",
      "writing bytes [2147483648, 2461331425)... done.\n"
     ]
    }
   ],
   "source": [
    "pickle_dump(review_cleaned_d, \"data/processed/review_cleaned_d.p\")"
   ]
  }
 ],
 "metadata": {
  "kernelspec": {
   "display_name": "Python 3",
   "language": "python",
   "name": "python3"
  },
  "language_info": {
   "codemirror_mode": {
    "name": "ipython",
    "version": 3
   },
   "file_extension": ".py",
   "mimetype": "text/x-python",
   "name": "python",
   "nbconvert_exporter": "python",
   "pygments_lexer": "ipython3",
   "version": "3.6.0"
  }
 },
 "nbformat": 4,
 "nbformat_minor": 0
}
